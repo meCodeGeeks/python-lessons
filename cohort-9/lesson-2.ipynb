{
    "cells": [
        {
            "cell_type": "markdown",
            "source": [
                "Write a function to find the longest common prefix string amongst an array of strings.\r\n",
                "\r\n",
                "If there is no common prefix, return an empty string \"\".\r\n",
                "\r\n",
                "Example 1: Input: strs = [\"flower\",\"flow\",\"flight\"] Output: \"fl\"\r\n",
                "\r\n",
                "Example 2: Input: strs = [\"dog\",\"racecar\",\"car\"] Output: \"\" Explanation: There is no common prefix among the input strings."
            ],
            "metadata": {}
        },
        {
            "cell_type": "code",
            "execution_count": 39,
            "source": [
                "strs = [\"flower\",\"flow\",\"floght\"]\r\n",
                "strs = [\"dog\",\"racecar\",\"car\"]s\r\n",
                "\r\n",
                "b = False\r\n",
                "a = \"\"\r\n",
                "result = \"\"\r\n",
                "for i in range(len(min(strs))):\r\n",
                "    for k in strs:\r\n",
                "        a = strs[0][i]\r\n",
                "        print(\"a=\",a)\r\n",
                "        if a != k[i]:\r\n",
                "            if i != 0:\r\n",
                "                result = k[:i]\r\n",
                "            print(i)\r\n",
                "            b = True\r\n",
                "            break\r\n",
                "    if b:\r\n",
                "        break\r\n",
                "\r\n",
                "print(result)\r\n"
            ],
            "outputs": [
                {
                    "output_type": "stream",
                    "name": "stdout",
                    "text": [
                        "a= d\n",
                        "a= d\n",
                        "0\n",
                        "\n"
                    ]
                }
            ],
            "metadata": {}
        },
        {
            "cell_type": "code",
            "execution_count": 41,
            "source": [
                "strs = [\"flower\",\"flow\",\"floght\"]\r\n",
                "# strs = [\"dog\",\"racecar\",\"car\"]\r\n",
                "\r\n",
                "b = False\r\n",
                "result = \"\"\r\n",
                "for i in range(len(min(strs))):\r\n",
                "    for k in strs:\r\n",
                "        if strs[0][i] != k[i]:\r\n",
                "            if i != 0:\r\n",
                "                result = k[:i]\r\n",
                "            b = True\r\n",
                "            break\r\n",
                "    if b:\r\n",
                "        break\r\n",
                "\r\n",
                "print(result)"
            ],
            "outputs": [
                {
                    "output_type": "stream",
                    "name": "stdout",
                    "text": [
                        "flo\n"
                    ]
                }
            ],
            "metadata": {}
        },
        {
            "cell_type": "code",
            "execution_count": 88,
            "source": [
                "strs = [\"flower\",\"flow\",\"floght\"]\r\n",
                "al = [\"dog\",\"car\",\"gec\"]\r\n",
                "\r\n",
                "\r\n",
                "def bul(list1):\r\n",
                "    for i in range(len(min(list1, key=len))):\r\n",
                "        for k in list1:\r\n",
                "            if min(list1, key=len)[i] != k[i]:\r\n",
                "                if i != 0:\r\n",
                "                    return min(list1, key=len)[:i]\r\n",
                "                return \"\"\r\n",
                "    return min(list1, key=len)\r\n",
                "\r\n",
                "bul(strs)\r\n"
            ],
            "outputs": [
                {
                    "output_type": "execute_result",
                    "data": {
                        "text/plain": [
                            "''"
                        ]
                    },
                    "metadata": {},
                    "execution_count": 88
                }
            ],
            "metadata": {}
        },
        {
            "cell_type": "code",
            "execution_count": 70,
            "source": [
                "min(strs, key=len)"
            ],
            "outputs": [
                {
                    "output_type": "execute_result",
                    "data": {
                        "text/plain": [
                            "'da'"
                        ]
                    },
                    "metadata": {},
                    "execution_count": 70
                }
            ],
            "metadata": {}
        },
        {
            "cell_type": "code",
            "execution_count": null,
            "source": [
                "strs = [\"flower\",\"flow\",\"floght\"]\r\n",
                "[strs[:i] for i in range(len(min(list1, key=len))) for k in strs if k[:i] ]"
            ],
            "outputs": [],
            "metadata": {}
        },
        {
            "cell_type": "code",
            "execution_count": null,
            "source": [
                "filter()"
            ],
            "outputs": [],
            "metadata": {}
        },
        {
            "cell_type": "code",
            "execution_count": 94,
            "source": [
                "list(filter(lambda k: strs[:strs.index(k)] == k[:strs.index(k)], strs))"
            ],
            "outputs": [
                {
                    "output_type": "execute_result",
                    "data": {
                        "text/plain": [
                            "[]"
                        ]
                    },
                    "metadata": {},
                    "execution_count": 94
                }
            ],
            "metadata": {}
        },
        {
            "cell_type": "code",
            "execution_count": 102,
            "source": [
                "strs = [\"flower\",\"flow\",\"floght\"]\r\n",
                "strs = [\"dog\",\"car\",\"gec\"]\r\n",
                "[k[:i] for i in range(len(min(strs, key=len))) for k in strs if k[:i] == min(strs, key=len)[:i] ]"
            ],
            "outputs": [
                {
                    "output_type": "execute_result",
                    "data": {
                        "text/plain": [
                            "[]"
                        ]
                    },
                    "metadata": {},
                    "execution_count": 102
                }
            ],
            "metadata": {}
        },
        {
            "cell_type": "code",
            "execution_count": null,
            "source": [
                "while True:\r\n",
                "    for i in strs:\r\n",
                "        if min(strs, key=len) == i:\r\n",
                "            strs.append(strs.remove(i)[:-1])\r\n",
                "        "
            ],
            "outputs": [],
            "metadata": {}
        }
    ],
    "metadata": {
        "orig_nbformat": 4,
        "language_info": {
            "name": "python",
            "version": "3.9.6",
            "mimetype": "text/x-python",
            "codemirror_mode": {
                "name": "ipython",
                "version": 3
            },
            "pygments_lexer": "ipython3",
            "nbconvert_exporter": "python",
            "file_extension": ".py"
        },
        "kernelspec": {
            "name": "python3",
            "display_name": "Python 3.9.6 64-bit"
        },
        "interpreter": {
            "hash": "88235260e9f937f3ff47077a9833bd167c34ec72878758c39d1cfa9789a0b5fc"
        }
    },
    "nbformat": 4,
    "nbformat_minor": 2
}