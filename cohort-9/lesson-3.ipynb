{
    "cells": [
        {
            "cell_type": "code",
            "execution_count": null,
            "source": [
                "name = input(\"Please enter your name: \").capitalize().strip()\r\n",
                "age = int(input(\"Please enter your age: \"))\r\n",
                "education = input(\"Please enter your education( 'lise', 'universite'): \").lower().strip()\r\n",
                "\r\n",
                "\r\n",
                "\r\n",
                "if age >= 18:\r\n",
                "    if (education == \"lise\" or education == \"universite\"):\r\n",
                "        print(f\"Sayın {name} ehliyet alabiliriniz!...\")\r\n",
                "    else:\r\n",
                "        print(f\"Sayın {name} eğitim durumunuz yeterli olmadığı için ehliyet alamazsınız!...\")\r\n",
                "else:\r\n",
                "    print(f\"Sayın {name} yaşınız 18 den küçük olduğu için ehliyet alamazsınız!...\")\r\n",
                "    "
            ],
            "outputs": [],
            "metadata": {}
        },
        {
            "cell_type": "code",
            "execution_count": null,
            "source": [
                "vize1 = int(input(\"vize 1 notu: \"))\r\n",
                "vize2 = int(input(\"vize 2 notu: \"))\r\n",
                "sozlu = int(input(\"sozlu  notu: \"))\r\n",
                "\r\n",
                "ort = (vize1 + vize2 + sozlu) // 3\r\n",
                "\r\n",
                "if 24 > ort >= 0:\r\n",
                "    print(\"notunuz 0\")\r\n",
                "elif 44 > ort >= 24:\r\n",
                "    print(\"notunuz 1\")\r\n",
                "elif 64 > ort >= 44:\r\n",
                "    print(\"notunuz 2\")\r\n",
                "elif 80 > ort >= 64:\r\n",
                "    print(\"notunuz 3\")\r\n",
                "elif 90 > ort >= 80:\r\n",
                "    print(\"notunuz 4\")\r\n",
                "elif 100 >= ort >= 90:\r\n",
                "    print(\"notunuz 5\")\r\n",
                "else:\r\n",
                "    print(\"yanlış değer girdiniz\")\r\n",
                "\r\n",
                "\r\n",
                "\r\n",
                "\r\n",
                "if 90 < ort:\r\n",
                "    print(\"notunuz 5\")\r\n",
                "elif 80 < ort:\r\n",
                "    print(\"notunuz 4\")\r\n",
                "elif 60 < ort:\r\n",
                "    print(\"notunuz 3\")\r\n",
                "elif 40 < ort:\r\n",
                "    print(\"notunuz 2\")\r\n",
                "elif 20 < ort:\r\n",
                "    print(\"notunuz 1\")\r\n",
                "elif 00 < ort:\r\n",
                "    print(\"notunuz 0\")"
            ],
            "outputs": [],
            "metadata": {}
        },
        {
            "cell_type": "code",
            "execution_count": null,
            "source": [
                "sayilar = [1, 3, 5, 7, 9, 12, 19, 21]\r\n",
                "\r\n",
                "liste1 = []\r\n",
                "\r\n",
                "for i in sayilar:\r\n",
                "    if not i % 3:\r\n",
                "        liste1.append(i)\r\n",
                "\r\n",
                "print(liste1)\r\n",
                "\r\n",
                "print([i for i in sayilar if not i % 3])"
            ],
            "outputs": [],
            "metadata": {}
        },
        {
            "cell_type": "code",
            "execution_count": null,
            "source": [
                "sayilar = [1, 3, 5, 7, 9, 12, 19, 21]\r\n",
                "\r\n",
                "# print(sum(sayilar))\r\n",
                "\r\n",
                "def topla(gelen):\r\n",
                "    toplam = 0\r\n",
                "    for i in gelen:\r\n",
                "        toplam += i\r\n",
                "    return toplam\r\n",
                "\r\n",
                "print(\"********************\")\r\n",
                "print(topla(sayilar) * 3)\r\n",
                "print(\"********************\")"
            ],
            "outputs": [],
            "metadata": {}
        },
        {
            "cell_type": "code",
            "execution_count": null,
            "source": [
                "def karealma(para):\r\n",
                "    liste2 = []\r\n",
                "    for i in para:\r\n",
                "        if i%2 == 1:\r\n",
                "            liste2.append(i*i)\r\n",
                "    return liste2\r\n",
                "\r\n",
                "aydın = karealma(sayilar)\r\n",
                "print(aydın)\r\n",
                "print(\"*****************\")"
            ],
            "outputs": [],
            "metadata": {}
        },
        {
            "cell_type": "code",
            "execution_count": null,
            "source": [
                "sehirler = [\"kocaeli\", \"istanbul\", \"ankara\", \"izmir\",\"rize\"]\r\n",
                "\r\n",
                "def kedidirkedi(gelen):\r\n",
                "    liste3 = []\r\n",
                "    for i in gelen:\r\n",
                "        if len(i) > 5:\r\n",
                "            liste3.append(i)\r\n",
                "    return liste3\r\n",
                "\r\n",
                "kedidirkedi(sehirler)\r\n",
                "\r\n"
            ],
            "outputs": [],
            "metadata": {}
        },
        {
            "cell_type": "markdown",
            "source": [],
            "metadata": {}
        },
        {
            "cell_type": "code",
            "execution_count": null,
            "source": [
                "sayilar = [1, 3, 5, 7, 9, 12, 19, 21]\r\n",
                "\r\n",
                "a = list(range(1,50))\r\n",
                "print(list(map(lambda i:a[i-1] + a[i], a)))"
            ],
            "outputs": [],
            "metadata": {}
        },
        {
            "cell_type": "code",
            "execution_count": 46,
            "source": [
                "urunler = [\r\n",
                "    {\"name\" :\"samsung s1\", \"price\": \"3000\"},\r\n",
                "    {\"name\" :\"samsung s2\", \"price\": \"4000\"},\r\n",
                "    {\"name\" :\"samsung s3\", \"price\": \"5000\"},\r\n",
                "    {\"name\" :\"samsung s4\", \"price\": \"6000\"},\r\n",
                "    {\"name\" :\"samsung s5\", \"price\": \"7000\"},\r\n",
                "]\r\n",
                "toplam = 0\r\n",
                "for i in urunler:\r\n",
                "    # toplam += int(i[\"price\"])\r\n",
                "    if int(i[\"price\"]) <= 5000:\r\n",
                "        print(i[\"name\"]) \r\n",
                "\r\n",
                "\r\n",
                "toplam"
            ],
            "outputs": [
                {
                    "output_type": "stream",
                    "name": "stdout",
                    "text": [
                        "samsung s1\n",
                        "samsung s2\n",
                        "samsung s3\n"
                    ]
                },
                {
                    "output_type": "execute_result",
                    "data": {
                        "text/plain": [
                            "0"
                        ]
                    },
                    "metadata": {},
                    "execution_count": 46
                }
            ],
            "metadata": {}
        }
    ],
    "metadata": {
        "orig_nbformat": 4,
        "language_info": {
            "name": "python",
            "version": "3.9.6",
            "mimetype": "text/x-python",
            "codemirror_mode": {
                "name": "ipython",
                "version": 3
            },
            "pygments_lexer": "ipython3",
            "nbconvert_exporter": "python",
            "file_extension": ".py"
        },
        "kernelspec": {
            "name": "python3",
            "display_name": "Python 3.9.6 64-bit"
        },
        "interpreter": {
            "hash": "88235260e9f937f3ff47077a9833bd167c34ec72878758c39d1cfa9789a0b5fc"
        }
    },
    "nbformat": 4,
    "nbformat_minor": 2
}