{
 "metadata": {
  "language_info": {
   "codemirror_mode": {
    "name": "ipython",
    "version": 3
   },
   "file_extension": ".py",
   "mimetype": "text/x-python",
   "name": "python",
   "nbconvert_exporter": "python",
   "pygments_lexer": "ipython3",
   "version": "3.9.6"
  },
  "orig_nbformat": 4,
  "kernelspec": {
   "name": "python3",
   "display_name": "Python 3.9.6 64-bit"
  },
  "interpreter": {
   "hash": "88235260e9f937f3ff47077a9833bd167c34ec72878758c39d1cfa9789a0b5fc"
  }
 },
 "nbformat": 4,
 "nbformat_minor": 2,
 "cells": [
  {
   "cell_type": "code",
   "execution_count": 37,
   "source": [
    "word = [\"cat\", \"tac\", \"ate\", \"atc\", \"eat\", \"tea\", \"tan\", \"nat\", \"ali\", \"ila\"]\r\n",
    "\r\n",
    "bos = {}\r\n",
    "\r\n",
    "for i in word:\r\n",
    "    b = list(i)\r\n",
    "    b.sort()\r\n",
    "    b = \"\".join(b)\r\n",
    "    if b in bos:\r\n",
    "        bos[b].append(i)\r\n",
    "    else:\r\n",
    "        bos[b] = [i]\r\n",
    "\r\n",
    "print(list(bos.values()))"
   ],
   "outputs": [
    {
     "output_type": "stream",
     "name": "stdout",
     "text": [
      "[['cat', 'tac', 'atc'], ['ate', 'eat', 'tea'], ['tan', 'nat'], ['ali', 'ila']]\n"
     ]
    }
   ],
   "metadata": {}
  },
  {
   "cell_type": "code",
   "execution_count": 41,
   "source": [
    "def fibonacci(min, max):\r\n",
    "    fibonacci = []\r\n",
    "    a = min\r\n",
    "    while a <= max:\r\n",
    "        fibonacci.append(a)\r\n",
    "        if len(fibonacci) < 2:\r\n",
    "            a += a\r\n",
    "        else:\r\n",
    "            a = fibonacci[-1] + fibonacci[-2]\r\n",
    "\r\n",
    "    return fibonacci\r\n",
    "\r\n",
    "print(fibonacci(1,55))"
   ],
   "outputs": [
    {
     "output_type": "stream",
     "name": "stdout",
     "text": [
      "[1, 2, 3, 5, 8, 13, 21, 34, 55]\n"
     ]
    }
   ],
   "metadata": {}
  },
  {
   "cell_type": "code",
   "execution_count": 46,
   "source": [
    "a = int(input(\"\"))\r\n",
    "\r\n",
    "# birinci çözüm\r\n",
    "print((0 < a) and \"doğru\" or (a < 100) and \"yanlış\")\r\n",
    "\r\n",
    "# ikinci çözüm\r\n",
    "if 0 < a < 100:\r\n",
    "    print(\"doğru\")\r\n",
    "else:\r\n",
    "    print(\"yanlış\")\r\n"
   ],
   "outputs": [
    {
     "output_type": "stream",
     "name": "stdout",
     "text": [
      "doğru\n",
      "doğru\n"
     ]
    }
   ],
   "metadata": {}
  },
  {
   "cell_type": "code",
   "execution_count": 49,
   "source": [
    "a = int(input(\"\"))\r\n",
    "\r\n",
    "# birinci çözüm\r\n",
    "\r\n",
    "# ikinci çözüm\r\n",
    "if a > 0:\r\n",
    "    if a % 2 == 0:\r\n",
    "        print(\"pozitif, çift\")\r\n",
    "    else:\r\n",
    "        print(\"pozitif, tek\")\r\n",
    "else:\r\n",
    "    if 0 == a % 2:\r\n",
    "        print(\"negatif, çift\")\r\n",
    "    else:\r\n",
    "        print(\"negatif, tek\")"
   ],
   "outputs": [
    {
     "output_type": "stream",
     "name": "stdout",
     "text": [
      "pozitif, çift\n"
     ]
    }
   ],
   "metadata": {}
  },
  {
   "cell_type": "code",
   "execution_count": 55,
   "source": [
    "name = \"Mesut\"\r\n",
    "parola = \"1234\"\r\n",
    "\r\n",
    "\r\n",
    "iname = input(\"kullanıcı adını giriniz: \").capitalize().strip()\r\n",
    "iparola = input(\"Şifre giriniz: \").strip()\r\n",
    "\r\n",
    "\r\n",
    "if (iname == name) and (parola == iparola):\r\n",
    "    print(\"Tebrikler\")\r\n",
    "elif iname == name:\r\n",
    "    if parola != iparola:\r\n",
    "        print(\"yanlış parola\")\r\n",
    "elif parola == iparola:\r\n",
    "    if iname != name:\r\n",
    "        print(\"yanlış kullanıcı adı\")\r\n",
    "else:\r\n",
    "    print(\"yanlış şifre ve kulalnıcı adı...\")"
   ],
   "outputs": [
    {
     "output_type": "stream",
     "name": "stdout",
     "text": [
      "yanlış kullanıcı adı\n"
     ]
    }
   ],
   "metadata": {}
  },
  {
   "cell_type": "code",
   "execution_count": 59,
   "source": [
    "name = \"Mesut\"\r\n",
    "parola = \"1234\"\r\n",
    "sayac = 0\r\n",
    "\r\n",
    "while sayac < 3:\r\n",
    "    iname = input(\"kullanıcı adını giriniz: \").capitalize().strip()\r\n",
    "    iparola = input(\"Şifre giriniz: \").strip()\r\n",
    "    if (iname == name):\r\n",
    "        if (parola == iparola):\r\n",
    "            print(\"Giriş başarılı!\")\r\n",
    "            break\r\n",
    "        else:\r\n",
    "            print(\"Yanlış parola girdiniz...\")\r\n",
    "            print(f\"{2-sayac} hakkınız kaldı\")\r\n",
    "    else:\r\n",
    "        print(\"kulalnıcı adı bulunamadı\")\r\n",
    "        print(f\"{2-sayac} hakkınız kaldı\")\r\n",
    "\r\n",
    "\r\n",
    "    sayac += 1"
   ],
   "outputs": [
    {
     "output_type": "stream",
     "name": "stdout",
     "text": [
      "kulalnıcı adı bulunamadı\n",
      "2 hakkınız kaldı\n",
      "kulalnıcı adı bulunamadı\n",
      "1 hakkınız kaldı\n",
      "kulalnıcı adı bulunamadı\n",
      "0 hakkınız kaldı\n"
     ]
    }
   ],
   "metadata": {}
  },
  {
   "cell_type": "code",
   "execution_count": 65,
   "source": [
    "def pig_it(text):\r\n",
    "    liste = text.split()\r\n",
    "    newword = \"\"\r\n",
    "    for i in liste:\r\n",
    "        newword += i[1:] + i[0] + \"ay\" + \" \"\r\n",
    "    return newword.strip()\r\n",
    "\r\n",
    "cc = pig_it('Pig latin is cool') # igPay atinlay siay oolcay\r\n",
    "print(cc)\r\n",
    "\r\n",
    "# cumle = input()\r\n",
    "# pig_it(cumle) "
   ],
   "outputs": [
    {
     "output_type": "stream",
     "name": "stdout",
     "text": [
      "igPay atinlay siay oolcay\n"
     ]
    }
   ],
   "metadata": {}
  }
 ]
}